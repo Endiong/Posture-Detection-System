{
 "cells": [
  {
   "cell_type": "code",
   "execution_count": 2,
   "id": "3c979c50-2aee-44df-9ed3-e8ed0abd8033",
   "metadata": {},
   "outputs": [
    {
     "name": "stdout",
     "output_type": "stream",
     "text": [
      "C:\\Users\\Admin\\Jupyter\\Posture Detection System\\posture_env\\Scripts\\python.exe\n"
     ]
    }
   ],
   "source": [
    "# import sys\n",
    "# print(sys.executable)"
   ]
  },
  {
   "cell_type": "code",
   "execution_count": null,
   "id": "2a117d1e-850e-4f65-bd94-41e73272e035",
   "metadata": {},
   "outputs": [],
   "source": [
    "# !pip install scikit-learn pandas \n",
    "# !pip install mediapipe opencv-python"
   ]
  },
  {
   "cell_type": "markdown",
   "id": "5385470b-b6dc-4976-bcb9-58436086b9d1",
   "metadata": {},
   "source": [
    "### Setup Mediapipe"
   ]
  },
  {
   "cell_type": "code",
   "execution_count": 2,
   "id": "8fcda9b7-9239-4ac3-bd2d-f9d1ec213d6d",
   "metadata": {},
   "outputs": [
    {
     "name": "stdout",
     "output_type": "stream",
     "text": [
      "Mediapipe is working! Version: 0.10.21\n",
      "Computer Vision is working! Version: 4.11.0\n"
     ]
    }
   ],
   "source": [
    "import mediapipe as mp\n",
    "import cv2\n",
    "print(\"Mediapipe is working! Version:\", mp.__version__)\n",
    "print(\"Computer Vision is working! Version:\", cv2.__version__)"
   ]
  },
  {
   "cell_type": "code",
   "execution_count": 3,
   "id": "0dac9857-ab9e-4cd2-9c0d-89c14ba6bc12",
   "metadata": {},
   "outputs": [],
   "source": [
    "mp_drawing = mp.solutions.drawing_utils\n",
    "mp_pose = mp.solutions.pose"
   ]
  },
  {
   "cell_type": "markdown",
   "id": "d986c3ec-a83e-475f-ad3d-51f5f23aec8e",
   "metadata": {},
   "source": [
    "### Get Realtime Webcam Feed"
   ]
  },
  {
   "cell_type": "code",
   "execution_count": 4,
   "id": "5849ac76-b87b-4ef6-be64-3487cacc241a",
   "metadata": {},
   "outputs": [],
   "source": [
    "cap = cv2.VideoCapture(0)\n",
    "while cap.isOpened():\n",
    "    ret,frame = cap.read()\n",
    "    if not ret: \n",
    "        break\n",
    "        \n",
    "    cv2.imshow(\"Raw Webcam Feed\",frame)\n",
    "\n",
    "    if cv2.waitKey(10) & 0xFF == ord('q'):\n",
    "        break\n",
    "        \n",
    "cap.release()\n",
    "cv2.destroyAllWindows()"
   ]
  },
  {
   "cell_type": "markdown",
   "id": "fa0c0474-13ef-48d3-8faa-9529533e465b",
   "metadata": {},
   "source": [
    "### Make Detections from Feed"
   ]
  },
  {
   "cell_type": "code",
   "execution_count": 18,
   "id": "5d147d1f-6868-40d2-9c26-d832f6b924f9",
   "metadata": {},
   "outputs": [],
   "source": [
    "cap = cv2.VideoCapture(0)\n",
    "\n",
    "# Initialize pose model\n",
    "pose = mp_pose.Pose(min_detection_confidence=0.5, min_tracking_confidence=0.5)\n",
    "\n",
    "while cap.isOpened():\n",
    "    ret, frame = cap.read()\n",
    "    if not ret:\n",
    "        break\n",
    "\n",
    "    # Recolor image to RGB\n",
    "    image = cv2.cvtColor(frame, cv2.COLOR_BGR2RGB)\n",
    "    # Make detections\n",
    "    results = pose.process(image)\n",
    "\n",
    "    # Recolor back to BGR for rendering \n",
    "    image = cv2.cvtColor(image, cv2.COLOR_RGB2BGR)\n",
    "\n",
    "    # Draw pose landmarks\n",
    "    if results.pose_landmarks:\n",
    "        mp_drawing.draw_landmarks(image, results.pose_landmarks, mp_pose.POSE_CONNECTIONS)\n",
    "\n",
    "    cv2.imshow('Pose Detection', image)\n",
    "\n",
    "    if cv2.waitKey(10) & 0xFF == ord('q'):\n",
    "        break\n",
    "\n",
    "cap.release()\n",
    "cv2.destroyAllWindows()\n"
   ]
  },
  {
   "cell_type": "code",
   "execution_count": 9,
   "id": "b53212f7-d382-4a42-9cb1-a9ea5fbe0ab9",
   "metadata": {},
   "outputs": [
    {
     "data": {
      "text/plain": [
       "x: 0.873660266\n",
       "y: 0.30303818\n",
       "z: -0.870196342\n",
       "visibility: 0.999193132"
      ]
     },
     "execution_count": 9,
     "metadata": {},
     "output_type": "execute_result"
    }
   ],
   "source": [
    "results.pose_landmarks #.landmark[0].visibility"
   ]
  },
  {
   "cell_type": "markdown",
   "id": "09c17f23-3b03-48b8-aaed-ccf72b91a03c",
   "metadata": {},
   "source": [
    "# Capture Landmarks & Export to CSV\n",
    "<!-- <img src=\"https://i.imgur.com/8bForKY.png\"> -->\n",
    "<!-- <img src=\"https://i.imgur.com/AzKNp7A.png\"> -->"
   ]
  },
  {
   "cell_type": "code",
   "execution_count": 20,
   "id": "20e63f8e-aac2-4bcc-bbb3-cafb67768dbe",
   "metadata": {},
   "outputs": [],
   "source": [
    "import csv\n",
    "import os\n",
    "import numpy as np\n",
    "import time"
   ]
  },
  {
   "cell_type": "code",
   "execution_count": 13,
   "id": "41eb639c-c156-44f2-a144-9f75017ddcf8",
   "metadata": {},
   "outputs": [],
   "source": [
    "num_coords = len(results.pose_landmarks.landmark)\n",
    "num_coords"
   ]
  },
  {
   "cell_type": "code",
   "execution_count": 14,
   "id": "62841751-b818-46b3-9499-3ae726493803",
   "metadata": {},
   "outputs": [],
   "source": [
    "landmarks =[\"class\"]\n",
    "for val in range(1, num_coords+1):\n",
    "    landmarks += ['x{}'.format(val), 'y{}'.format(val), 'z{}'.format(val), 'v{}'.format(val)]"
   ]
  },
  {
   "cell_type": "code",
   "execution_count": 16,
   "id": "448c7988-d0b6-4c35-9da0-638a8608ea04",
   "metadata": {},
   "outputs": [
    {
     "data": {
      "text/plain": [
       "'v33'"
      ]
     },
     "execution_count": 16,
     "metadata": {},
     "output_type": "execute_result"
    }
   ],
   "source": [
    "landmarks[-1]"
   ]
  },
  {
   "cell_type": "markdown",
   "id": "7afce071-b771-47ac-8e15-2a3e6a3e6c79",
   "metadata": {},
   "source": [
    "### Writing to CSV "
   ]
  },
  {
   "cell_type": "code",
   "execution_count": 17,
   "id": "14f228d7-7b29-4178-9c49-350409d41b58",
   "metadata": {},
   "outputs": [],
   "source": [
    "with open('coords.csv', mode='w', newline='') as f:\n",
    "    csv_writer = csv.writer(f, delimiter=',', quotechar='\"', quoting=csv.QUOTE_MINIMAL)\n",
    "    csv_writer.writerow(landmarks)"
   ]
  },
  {
   "cell_type": "markdown",
   "id": "8a7ddb7c-930d-4537-85d2-c143ebda18d4",
   "metadata": {},
   "source": [
    "### Capturing Landmarks for classes"
   ]
  },
  {
   "cell_type": "code",
   "execution_count": null,
   "id": "9697eccf-fead-43ae-a0d0-0ded4e5ece65",
   "metadata": {},
   "outputs": [],
   "source": [
    "class_name = \"Upright\"  #\"Upright\",\" \"Slouching,\" and \"Leaning Forward\""
   ]
  },
  {
   "cell_type": "code",
   "execution_count": null,
   "id": "f36264e9-94f9-43bc-bf68-8cf6bd1f6691",
   "metadata": {},
   "outputs": [],
   "source": [
    "cap = cv2.VideoCapture(0)\n",
    "\n",
    "# Initialize pose model\n",
    "pose = mp_pose.Pose(min_detection_confidence=0.5, min_tracking_confidence=0.5)\n",
    "\n",
    "while cap.isOpened():\n",
    "    ret, frame = cap.read()\n",
    "    if not ret:\n",
    "        break\n",
    "\n",
    "    # Recolor image to RGB\n",
    "    image = cv2.cvtColor(frame, cv2.COLOR_BGR2RGB)\n",
    "    # Make detections\n",
    "    results = pose.process(image)\n",
    "\n",
    "    # Recolor back to BGR for rendering \n",
    "    image = cv2.cvtColor(image, cv2.COLOR_RGB2BGR)\n",
    "\n",
    "    # Draw pose landmarks\n",
    "    if results.pose_landmarks:\n",
    "        mp_drawing.draw_landmarks(image, results.pose_landmarks, mp_pose.POSE_CONNECTIONS)\n",
    "\n",
    "    try:\n",
    "        # Extract Pose Lnadmarks\n",
    "        pose =  results.pose_landmarks.landmark\n",
    "        pose_row = list(np.array([[landmark.x, landmark.y, landmark.z, landmark.visibility] for landmark in pose]).flatten())\n",
    "        \n",
    "        row = pose_row\n",
    "\n",
    "        #Append class name\n",
    "        row.insert(0,class_name)\n",
    "        \n",
    "        # Export to CSV\n",
    "        with open('coords.csv', mode='w', newline='') as f:\n",
    "                csv_writer = csv.writer(f, delimiter=',', quotechar='\"', quoting=csv.QUOTE_MINIMAL)\n",
    "                csv_writer.writerow(row)\n",
    "                \n",
    "    except:\n",
    "        pass\n",
    "    \n",
    "    \n",
    "    cv2.imshow('Pose Detection', image)\n",
    "\n",
    "    if cv2.waitKey(10) & 0xFF == ord('q'):\n",
    "        break\n",
    "\n",
    "cap.release()\n",
    "cv2.destroyAllWindows()\n"
   ]
  },
  {
   "cell_type": "markdown",
   "id": "0f47d9fc-60c8-42ee-8945-be07bd502173",
   "metadata": {},
   "source": [
    "# Train Custom Model Using Scikit Learn"
   ]
  },
  {
   "cell_type": "code",
   "execution_count": null,
   "id": "a330e21f-dea2-44a3-bfec-1b1b6b38bab3",
   "metadata": {},
   "outputs": [],
   "source": []
  }
 ],
 "metadata": {
  "kernelspec": {
   "display_name": "Posture Env",
   "language": "python",
   "name": "posture_env"
  },
  "language_info": {
   "codemirror_mode": {
    "name": "ipython",
    "version": 3
   },
   "file_extension": ".py",
   "mimetype": "text/x-python",
   "name": "python",
   "nbconvert_exporter": "python",
   "pygments_lexer": "ipython3",
   "version": "3.11.9"
  }
 },
 "nbformat": 4,
 "nbformat_minor": 5
}
