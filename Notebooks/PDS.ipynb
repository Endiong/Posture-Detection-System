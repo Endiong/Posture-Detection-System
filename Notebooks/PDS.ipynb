{
 "cells": [
  {
   "cell_type": "code",
   "execution_count": 2,
   "id": "3c979c50-2aee-44df-9ed3-e8ed0abd8033",
   "metadata": {},
   "outputs": [
    {
     "name": "stdout",
     "output_type": "stream",
     "text": [
      "C:\\Users\\Admin\\Jupyter\\Posture Detection System\\posture_env\\Scripts\\python.exe\n"
     ]
    }
   ],
   "source": [
    "# import sys\n",
    "# print(sys.executable)"
   ]
  },
  {
   "cell_type": "code",
   "execution_count": null,
   "id": "2a117d1e-850e-4f65-bd94-41e73272e035",
   "metadata": {},
   "outputs": [],
   "source": [
    "# !pip install scikit-learn pandas \n",
    "# !pip install mediapipe opencv-python"
   ]
  },
  {
   "cell_type": "markdown",
   "id": "5385470b-b6dc-4976-bcb9-58436086b9d1",
   "metadata": {},
   "source": [
    "### Setup Mediapipe"
   ]
  },
  {
   "cell_type": "code",
   "execution_count": 3,
   "id": "8fcda9b7-9239-4ac3-bd2d-f9d1ec213d6d",
   "metadata": {},
   "outputs": [
    {
     "name": "stdout",
     "output_type": "stream",
     "text": [
      "Mediapipe is working! Version: 0.10.21\n",
      "Computer Vision is working! Version: 4.11.0\n"
     ]
    }
   ],
   "source": [
    "import mediapipe as mp\n",
    "import cv2\n",
    "print(\"Mediapipe is working! Version:\", mp.__version__)\n",
    "print(\"Computer Vision is working! Version:\", cv2.__version__)"
   ]
  },
  {
   "cell_type": "code",
   "execution_count": 13,
   "id": "0dac9857-ab9e-4cd2-9c0d-89c14ba6bc12",
   "metadata": {},
   "outputs": [],
   "source": [
    "mp_drawing = mp.solutions.drawing_utils\n",
    "mp_pose = mp.solutions.pose"
   ]
  },
  {
   "cell_type": "markdown",
   "id": "d986c3ec-a83e-475f-ad3d-51f5f23aec8e",
   "metadata": {},
   "source": [
    "### Get Realtime Webcam Feed"
   ]
  },
  {
   "cell_type": "code",
   "execution_count": 14,
   "id": "5849ac76-b87b-4ef6-be64-3487cacc241a",
   "metadata": {},
   "outputs": [],
   "source": [
    "cap = cv2.VideoCapture(0)\n",
    "while cap.isOpened():\n",
    "    ret,frame = cap.read()\n",
    "    if not ret: \n",
    "        break\n",
    "        \n",
    "    cv2.imshow(\"Raw Webcam Feed\",frame)\n",
    "\n",
    "    if cv2.waitKey(10) & 0xFF == ord('q'):\n",
    "        break\n",
    "        \n",
    "cap.release()\n",
    "cv2.destroyAllWindows()"
   ]
  },
  {
   "cell_type": "markdown",
   "id": "fa0c0474-13ef-48d3-8faa-9529533e465b",
   "metadata": {},
   "source": [
    "### Make Detections from Feed"
   ]
  },
  {
   "cell_type": "code",
   "execution_count": 15,
   "id": "5d147d1f-6868-40d2-9c26-d832f6b924f9",
   "metadata": {},
   "outputs": [],
   "source": [
    "cap = cv2.VideoCapture(0)\n",
    "\n",
    "# Initialize pose model\n",
    "pose = mp_pose.Pose(min_detection_confidence=0.5, min_tracking_confidence=0.5)\n",
    "\n",
    "while cap.isOpened():\n",
    "    ret, frame = cap.read()\n",
    "    if not ret:\n",
    "        break\n",
    "\n",
    "    # Recolor image to RGB\n",
    "    image = cv2.cvtColor(frame, cv2.COLOR_BGR2RGB)\n",
    "    # Make detections\n",
    "    results = pose.process(image)\n",
    "\n",
    "    # Recolor back to BGR for rendering \n",
    "    image = cv2.cvtColor(image, cv2.COLOR_RGB2BGR)\n",
    "\n",
    "    # Draw pose landmarks\n",
    "    if results.pose_landmarks:\n",
    "        mp_drawing.draw_landmarks(image, results.pose_landmarks, mp_pose.POSE_CONNECTIONS)\n",
    "\n",
    "    cv2.imshow('Pose Detection', image)\n",
    "\n",
    "    if cv2.waitKey(10) & 0xFF == ord('q'):\n",
    "        break\n",
    "\n",
    "cap.release()\n",
    "cv2.destroyAllWindows()\n"
   ]
  },
  {
   "cell_type": "code",
   "execution_count": null,
   "id": "b53212f7-d382-4a42-9cb1-a9ea5fbe0ab9",
   "metadata": {},
   "outputs": [],
   "source": []
  }
 ],
 "metadata": {
  "kernelspec": {
   "display_name": "Posture Env",
   "language": "python",
   "name": "posture_env"
  },
  "language_info": {
   "codemirror_mode": {
    "name": "ipython",
    "version": 3
   },
   "file_extension": ".py",
   "mimetype": "text/x-python",
   "name": "python",
   "nbconvert_exporter": "python",
   "pygments_lexer": "ipython3",
   "version": "3.11.9"
  }
 },
 "nbformat": 4,
 "nbformat_minor": 5
}
